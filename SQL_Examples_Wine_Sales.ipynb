{
 "cells": [
  {
   "cell_type": "code",
   "execution_count": 1,
   "metadata": {},
   "outputs": [],
   "source": [
    "import pandas as pd\n",
    "import numpy as np\n",
    "import duckdb   "
   ]
  },
  {
   "cell_type": "markdown",
   "metadata": {},
   "source": [
    "# Chargement des données"
   ]
  },
  {
   "cell_type": "code",
   "execution_count": 2,
   "metadata": {},
   "outputs": [],
   "source": [
    "# General Path to the directory\n",
    "# csv_path = r'C:\\Users\\gunon\\Documents\\bootcamp-main\\7-SQL\\9-Exercices SQL\\Projet_wine/'\n",
    "csv_path = 'https://github.com/gunony/Example_SQL_Data/raw/main/'\n",
    "\n",
    "# Path to the databases\n",
    "path_item = csv_path + 'item.csv'\n",
    "path_client = csv_path + 'client.csv'\n",
    "path_invoice = csv_path + 'invoice.csv'\n",
    "#path_order = csv_path + 'wine_sales_2024_Order.csv'\n",
    "\n",
    "# Load the tables\n",
    "table_item = pd.read_csv(path_item)\n",
    "table_client = pd.read_csv(path_client)\n",
    "table_invoice = pd.read_csv(path_invoice, parse_dates=['date'])\n",
    "#table_order = pd.read_csv(path_order, parse_dates=['date'])\n"
   ]
  },
  {
   "cell_type": "markdown",
   "metadata": {},
   "source": [
    "Regarder la composition de la table des articles.\\\n",
    "La clé est le code_item."
   ]
  },
  {
   "cell_type": "code",
   "execution_count": 3,
   "metadata": {},
   "outputs": [
    {
     "data": {
      "text/plain": [
       "┌────────────┬─────────────────────────────────┬───────┬────────────┬────────────────┬─────────┐\n",
       "│ code_item  │            item_name            │ year  │ base_price │     region     │  type   │\n",
       "│  varchar   │             varchar             │ int64 │   double   │    varchar     │ varchar │\n",
       "├────────────┼─────────────────────────────────┼───────┼────────────┼────────────────┼─────────┤\n",
       "│ rpo2013100 │ Château L'Evangile 2013         │  2013 │      139.0 │ Pomerol        │ rouge   │\n",
       "│ res2017100 │ Château Cos d'Estournel 2017    │  2017 │      150.0 │ Saint Estèphe  │ rouge   │\n",
       "│ bsa2012100 │ Château Rayne Vigneau 2012      │  2012 │      137.0 │ Sauternes      │ blanc   │\n",
       "│ bsa2018100 │ Château d'Yquem 2018            │  2018 │      169.0 │ Sauternes      │ blanc   │\n",
       "│ res2021101 │ Château Calon-Ségur 2021        │  2021 │      120.0 │ Saint Estèphe  │ rouge   │\n",
       "│ rma2021101 │ Château Giscours 2021           │  2021 │      157.0 │ Margaux        │ rouge   │\n",
       "│ rpa2019100 │ Château Mouton Rothschild 2019  │  2019 │      899.0 │ Pauillac       │ rouge   │\n",
       "│ bpe2020100 │ Château Smith Haut Lafitte 2020 │  2020 │      145.0 │ Pessac Leognan │ blanc   │\n",
       "│ bpe2022101 │ Château Olivier Blanc 2022      │  2022 │      133.0 │ Pessac Leognan │ blanc   │\n",
       "│ rem2021100 │ Château Angélus 2021            │  2021 │      369.5 │ Saint Emilion  │ rouge   │\n",
       "│     ·      │          ·                      │    ·  │        ·   │     ·          │   ·     │\n",
       "│     ·      │          ·                      │    ·  │        ·   │     ·          │   ·     │\n",
       "│     ·      │          ·                      │    ·  │        ·   │     ·          │   ·     │\n",
       "│ bch2010100 │ Dom Perignon Brut 2010          │  2010 │      278.0 │ Champagne      │ blanc   │\n",
       "│ bch2015100 │ Dom Perignon Brut 2015          │  2015 │      199.0 │ Champagne      │ blanc   │\n",
       "│ rch2005100 │ Dom Perignon Rosé 2005          │  2005 │      450.0 │ Champagne      │ rosé    │\n",
       "│ res2012100 │ Château Montrose 2012           │  2012 │      137.0 │ Saint Estèphe  │ rouge   │\n",
       "│ res1975100 │ Château Montrose 1975           │  1975 │      161.0 │ Saint Estèphe  │ rouge   │\n",
       "│ res1957100 │ Château Calon-Ségur 1957        │  1957 │      380.0 │ Saint Estèphe  │ rouge   │\n",
       "│ rch2009100 │ Deutz 2009                      │  2009 │      174.9 │ Champagne      │ rosé    │\n",
       "│ bch2013100 │ Deutz 2013                      │  2013 │      190.0 │ Champagne      │ blanc   │\n",
       "│ rpo1997100 │ Pétrus 1997                     │  1997 │     3687.8 │ Pomerol        │ rouge   │\n",
       "│ rpo1979100 │ Pétrus 1979                     │  1979 │     4429.0 │ Pomerol        │ rouge   │\n",
       "├────────────┴─────────────────────────────────┴───────┴────────────┴────────────────┴─────────┤\n",
       "│ 26 rows (20 shown)                                                                 6 columns │\n",
       "└──────────────────────────────────────────────────────────────────────────────────────────────┘"
      ]
     },
     "execution_count": 3,
     "metadata": {},
     "output_type": "execute_result"
    }
   ],
   "source": [
    "query = \"\"\"\n",
    "SELECT *\n",
    "FROM table_item\n",
    "\"\"\"\n",
    "duckdb.sql(query)"
   ]
  },
  {
   "cell_type": "markdown",
   "metadata": {},
   "source": [
    "Regarder la composition de la table des clients, dont la clé est le cust_id."
   ]
  },
  {
   "cell_type": "code",
   "execution_count": 4,
   "metadata": {},
   "outputs": [
    {
     "data": {
      "text/plain": [
       "┌───────────┬─────────────────────────────────────┬─────────────┬─────────────────────────────────────────┐\n",
       "│ id_client │                town                 │   country   │               client_name               │\n",
       "│  varchar  │               varchar               │   varchar   │                 varchar                 │\n",
       "├───────────┼─────────────────────────────────────┼─────────────┼─────────────────────────────────────────┤\n",
       "│ fr116     │ Annecy                              │ France      │ Le Clos des Sens                        │\n",
       "│ fr118     │ Cassis                              │ France      │ La Villa Madie                          │\n",
       "│ fr121     │ Courchevel                          │ France      │  Le 1947 à Cheval Blanc                 │\n",
       "│ fr124     │ Île de Noirmoutier / L'Herbaudière  │ France      │ La Marine                               │\n",
       "│ fr128     │ Menton                              │ France      │  Mirazur                                │\n",
       "│ fr133     │ Paris                               │ France      │ L'Ambroisie                             │\n",
       "│ fr134     │ Paris                               │ France      │ Arpège                                  │\n",
       "│ fr140     │ Paris                               │ France      │ Le Pré Catelan                          │\n",
       "│ fr143     │ Saint-Tropez                        │ France      │  La Vague d'Or - Cheval Blanc St-Tropez │\n",
       "│ it223     │ Milan                               │ Italie      │ Enrico Bartolini al Mudec               │\n",
       "│ it236     │ Florence                            │ Italie      │ Enoteca Pinchiorri                      │\n",
       "│ ru232     │ Londres                             │ Royaume-Uni │ The ledbury                             │\n",
       "│ ch107     │ Shanghai                            │ Chine       │ Taian Table                             │\n",
       "│ eu115     │ New York                            │ Etats-Unis  │ Le Bernardin                            │\n",
       "│ hk221     │ Hong Kong                           │ Hong Kong   │ Caprice                                 │\n",
       "│ ja226     │ Tokyo                               │ Japon       │ Sézanne                                 │\n",
       "│ ar102     │ Buenos Aires                        │ Argentine   │ Aramburu                                │\n",
       "│ ch109     │ Beijing                             │ Chine       │ Xin Rong Ji                             │\n",
       "│ eu113     │ Chicago                             │ Etats-Unis  │ Smyth                                   │\n",
       "│ fr117     │ Les Baux-de-Provence                │ France      │ L'Oustau de Baumanière                  │\n",
       "│ fr141     │ Reims                               │ France      │ Assiette Champenoise                    │\n",
       "├───────────┴─────────────────────────────────────┴─────────────┴─────────────────────────────────────────┤\n",
       "│ 21 rows                                                                                       4 columns │\n",
       "└─────────────────────────────────────────────────────────────────────────────────────────────────────────┘"
      ]
     },
     "execution_count": 4,
     "metadata": {},
     "output_type": "execute_result"
    }
   ],
   "source": [
    "query = \"\"\"\n",
    "SELECT *\n",
    "FROM table_client\n",
    "\"\"\"\n",
    "duckdb.sql(query)"
   ]
  },
  {
   "cell_type": "markdown",
   "metadata": {},
   "source": [
    "Regarder la composition de la table des factures établies, dont la clé est le inv_no (numéro de facture)."
   ]
  },
  {
   "cell_type": "code",
   "execution_count": 5,
   "metadata": {},
   "outputs": [
    {
     "data": {
      "text/plain": [
       "┌─────────────────────┬─────────┬────────────┬───────┬────────┬─────────┬──────────┐\n",
       "│        date         │ cust_id │    item    │  qty  │ price  │ line_no │  inv_no  │\n",
       "│    timestamp_ns     │ varchar │  varchar   │ int64 │ double │  int64  │ varchar  │\n",
       "├─────────────────────┼─────────┼────────────┼───────┼────────┼─────────┼──────────┤\n",
       "│ 2025-01-01 00:00:00 │ fr133   │ rpo1979100 │     3 │ 5320.0 │       1 │ fac01_01 │\n",
       "│ 2025-01-03 00:00:00 │ fr141   │ rch2009100 │    10 │  210.0 │       1 │ fac01_02 │\n",
       "│ 2025-01-05 00:00:00 │ fr116   │ rpo2013100 │     5 │  148.8 │       1 │ fac01_03 │\n",
       "│ 2025-01-09 00:00:00 │ fr133   │ bsa2012100 │     7 │   39.7 │       1 │ fac01_04 │\n",
       "│ 2025-01-10 00:00:00 │ fr140   │ bsa2018100 │     3 │  181.0 │       1 │ fac01_05 │\n",
       "│ 2025-01-15 00:00:00 │ fr124   │ rma2021101 │     4 │  168.0 │       1 │ fac01_06 │\n",
       "│ 2025-01-22 00:00:00 │ it236   │ rpa2019100 │    12 │  988.9 │       1 │ fac01_07 │\n",
       "│ 2025-01-22 00:00:00 │ it236   │ res2017100 │    15 │  166.5 │       2 │ fac01_07 │\n",
       "│ 2025-01-30 00:00:00 │ eu115   │ bpe2020100 │    16 │  174.0 │       1 │ fac01_08 │\n",
       "│ 2025-02-05 00:00:00 │ fr118   │ res2017100 │     3 │  160.5 │       1 │ fac02_01 │\n",
       "│          ·          │   ·     │     ·      │     · │    ·   │       · │    ·     │\n",
       "│          ·          │   ·     │     ·      │     · │    ·   │       · │    ·     │\n",
       "│          ·          │   ·     │     ·      │     · │    ·   │       · │    ·     │\n",
       "│ 2025-04-16 00:00:00 │ fr134   │ bch2013100 │     5 │  230.0 │       1 │ fac04_10 │\n",
       "│ 2025-04-17 00:00:00 │ fr140   │ rch2009100 │     3 │  215.0 │       1 │ fac04_11 │\n",
       "│ 2025-04-20 00:00:00 │ fr143   │ res2017100 │     5 │  185.0 │       1 │ fac04_12 │\n",
       "│ 2025-04-21 00:00:00 │ ar102   │ bpe2020100 │    12 │  200.0 │       1 │ fac04_13 │\n",
       "│ 2025-04-21 00:00:00 │ ar102   │ rpo2016100 │     6 │  405.0 │       2 │ fac04_13 │\n",
       "│ 2025-04-27 00:00:00 │ it236   │ rpo2011100 │     5 │  275.0 │       1 │ fac04_14 │\n",
       "│ 2025-04-29 00:00:00 │ fr134   │ rch2005100 │     6 │  540.0 │       1 │ fac04_15 │\n",
       "│ 2025-05-05 00:00:00 │ fr121   │ res1957100 │     6 │  478.0 │       1 │ fac05_01 │\n",
       "│ 2025-05-06 00:00:00 │ it236   │ bch2013100 │     6 │  256.5 │       1 │ fac05_02 │\n",
       "│ 2025-05-08 00:00:00 │ fr134   │ rpo1979100 │     2 │ 5310.0 │       1 │ fac05_03 │\n",
       "├─────────────────────┴─────────┴────────────┴───────┴────────┴─────────┴──────────┤\n",
       "│ 50 rows (20 shown)                                                     7 columns │\n",
       "└──────────────────────────────────────────────────────────────────────────────────┘"
      ]
     },
     "execution_count": 5,
     "metadata": {},
     "output_type": "execute_result"
    }
   ],
   "source": [
    "query = \"\"\"\n",
    "SELECT *\n",
    "FROM table_invoice\n",
    "\"\"\"\n",
    "duckdb.sql(query)"
   ]
  },
  {
   "cell_type": "markdown",
   "metadata": {},
   "source": [
    "Regarder la table des commandes avec comme colonne clé 'order_no' qui correspond au numéro de commande."
   ]
  },
  {
   "cell_type": "code",
   "execution_count": 6,
   "metadata": {},
   "outputs": [],
   "source": [
    "\n",
    "query = \"\"\"\n",
    "SELECT *\n",
    "FROM table_order\n",
    "LIMIT 10 \n",
    "\"\"\"\n",
    "# duckdb.sql(query)\n",
    "\n"
   ]
  },
  {
   "cell_type": "markdown",
   "metadata": {},
   "source": [
    "# Les Jointures"
   ]
  },
  {
   "cell_type": "markdown",
   "metadata": {},
   "source": [
    "### 1-Cross join\n",
    "C'est un produit cartésien. Chaque ligne de la première table est combinée avec les lignes de la seconde table.\n",
    "\n",
    "**Mission** : Affecter à chaque client la gamme complète des vins."
   ]
  },
  {
   "cell_type": "code",
   "execution_count": 38,
   "metadata": {},
   "outputs": [
    {
     "data": {
      "text/plain": [
       "┌───────────┬──────────────────────┬────────────┬─────────────────────────────────┐\n",
       "│ id_client │     client_name      │ code_item  │            item_name            │\n",
       "│  varchar  │       varchar        │  varchar   │             varchar             │\n",
       "├───────────┼──────────────────────┼────────────┼─────────────────────────────────┤\n",
       "│ fr116     │ Le Clos des Sens     │ rpo2013100 │ Château L'Evangile 2013         │\n",
       "│ fr116     │ Le Clos des Sens     │ res2017100 │ Château Cos d'Estournel 2017    │\n",
       "│ fr116     │ Le Clos des Sens     │ bsa2012100 │ Château Rayne Vigneau 2012      │\n",
       "│ fr116     │ Le Clos des Sens     │ bsa2018100 │ Château d'Yquem 2018            │\n",
       "│ fr116     │ Le Clos des Sens     │ res2021101 │ Château Calon-Ségur 2021        │\n",
       "│ fr116     │ Le Clos des Sens     │ rma2021101 │ Château Giscours 2021           │\n",
       "│ fr116     │ Le Clos des Sens     │ rpa2019100 │ Château Mouton Rothschild 2019  │\n",
       "│ fr116     │ Le Clos des Sens     │ bpe2020100 │ Château Smith Haut Lafitte 2020 │\n",
       "│ fr116     │ Le Clos des Sens     │ bpe2022101 │ Château Olivier Blanc 2022      │\n",
       "│ fr116     │ Le Clos des Sens     │ rem2021100 │ Château Angélus 2021            │\n",
       "│   ·       │        ·             │     ·      │          ·                      │\n",
       "│   ·       │        ·             │     ·      │          ·                      │\n",
       "│   ·       │        ·             │     ·      │          ·                      │\n",
       "│ fr141     │ Assiette Champenoise │ bch2010100 │ Dom Perignon Brut 2010          │\n",
       "│ fr141     │ Assiette Champenoise │ bch2015100 │ Dom Perignon Brut 2015          │\n",
       "│ fr141     │ Assiette Champenoise │ rch2005100 │ Dom Perignon Rosé 2005          │\n",
       "│ fr141     │ Assiette Champenoise │ res2012100 │ Château Montrose 2012           │\n",
       "│ fr141     │ Assiette Champenoise │ res1975100 │ Château Montrose 1975           │\n",
       "│ fr141     │ Assiette Champenoise │ res1957100 │ Château Calon-Ségur 1957        │\n",
       "│ fr141     │ Assiette Champenoise │ rch2009100 │ Deutz 2009                      │\n",
       "│ fr141     │ Assiette Champenoise │ bch2013100 │ Deutz 2013                      │\n",
       "│ fr141     │ Assiette Champenoise │ rpo1997100 │ Pétrus 1997                     │\n",
       "│ fr141     │ Assiette Champenoise │ rpo1979100 │ Pétrus 1979                     │\n",
       "├───────────┴──────────────────────┴────────────┴─────────────────────────────────┤\n",
       "│ 546 rows (20 shown)                                                   4 columns │\n",
       "└─────────────────────────────────────────────────────────────────────────────────┘"
      ]
     },
     "execution_count": 38,
     "metadata": {},
     "output_type": "execute_result"
    }
   ],
   "source": [
    "query = '''\n",
    "\n",
    "SELECT\n",
    "    id_client,\n",
    "    client_name,\n",
    "    code_item,\n",
    "    item_name\n",
    "\n",
    "FROM table_client\n",
    "\n",
    "CROSS JOIN table_item\n",
    "'''\n",
    "duckdb.sql(query)"
   ]
  },
  {
   "cell_type": "markdown",
   "metadata": {},
   "source": [
    "### 2-Inner join\n",
    "Cette opération permet de combiner les lignes de deux tables en se basant sur une condition de jointure spécifique.\\\n",
    "La jointure renvoie uniquement les lignes où il y a une correspondance dans les deux tables.\\\n",
    "C'est un 'crossjoin' avec une condition de correspondance.\\\n",
    "Attention : S'il manque des informations dans une table, alors la ligne avec cette information manquante n'apparaître pas.\n",
    "\n",
    "**Mission** : Ajouter dans la table des ventes le nom des clients et le libelle des produits."
   ]
  },
  {
   "cell_type": "code",
   "execution_count": 39,
   "metadata": {},
   "outputs": [
    {
     "data": {
      "text/plain": [
       "┌─────────────────────┬─────────┬─────────────────────────────────────────┬────────────┬─────────────────────────────────┬──────────┐\n",
       "│        date         │ cust_id │               client_name               │    item    │            item_name            │  inv_no  │\n",
       "│    timestamp_ns     │ varchar │                 varchar                 │  varchar   │             varchar             │ varchar  │\n",
       "├─────────────────────┼─────────┼─────────────────────────────────────────┼────────────┼─────────────────────────────────┼──────────┤\n",
       "│ 2025-01-01 00:00:00 │ fr133   │ L'Ambroisie                             │ rpo1979100 │ Pétrus 1979                     │ fac01_01 │\n",
       "│ 2025-01-03 00:00:00 │ fr141   │ Assiette Champenoise                    │ rch2009100 │ Deutz 2009                      │ fac01_02 │\n",
       "│ 2025-01-05 00:00:00 │ fr116   │ Le Clos des Sens                        │ rpo2013100 │ Château L'Evangile 2013         │ fac01_03 │\n",
       "│ 2025-01-09 00:00:00 │ fr133   │ L'Ambroisie                             │ bsa2012100 │ Château Rayne Vigneau 2012      │ fac01_04 │\n",
       "│ 2025-01-10 00:00:00 │ fr140   │ Le Pré Catelan                          │ bsa2018100 │ Château d'Yquem 2018            │ fac01_05 │\n",
       "│ 2025-01-15 00:00:00 │ fr124   │ La Marine                               │ rma2021101 │ Château Giscours 2021           │ fac01_06 │\n",
       "│ 2025-01-22 00:00:00 │ it236   │ Enoteca Pinchiorri                      │ rpa2019100 │ Château Mouton Rothschild 2019  │ fac01_07 │\n",
       "│ 2025-01-22 00:00:00 │ it236   │ Enoteca Pinchiorri                      │ res2017100 │ Château Cos d'Estournel 2017    │ fac01_07 │\n",
       "│ 2025-01-30 00:00:00 │ eu115   │ Le Bernardin                            │ bpe2020100 │ Château Smith Haut Lafitte 2020 │ fac01_08 │\n",
       "│ 2025-02-05 00:00:00 │ fr118   │ La Villa Madie                          │ res2017100 │ Château Cos d'Estournel 2017    │ fac02_01 │\n",
       "│          ·          │   ·     │   ·                                     │     ·      │     ·                           │    ·     │\n",
       "│          ·          │   ·     │   ·                                     │     ·      │     ·                           │    ·     │\n",
       "│          ·          │   ·     │   ·                                     │     ·      │     ·                           │    ·     │\n",
       "│ 2025-04-16 00:00:00 │ fr134   │ Arpège                                  │ bch2013100 │ Deutz 2013                      │ fac04_10 │\n",
       "│ 2025-04-17 00:00:00 │ fr140   │ Le Pré Catelan                          │ rch2009100 │ Deutz 2009                      │ fac04_11 │\n",
       "│ 2025-04-20 00:00:00 │ fr143   │  La Vague d'Or - Cheval Blanc St-Tropez │ res2017100 │ Château Cos d'Estournel 2017    │ fac04_12 │\n",
       "│ 2025-04-21 00:00:00 │ ar102   │ Aramburu                                │ bpe2020100 │ Château Smith Haut Lafitte 2020 │ fac04_13 │\n",
       "│ 2025-04-21 00:00:00 │ ar102   │ Aramburu                                │ rpo2016100 │ Château La Conseillante 2016    │ fac04_13 │\n",
       "│ 2025-04-27 00:00:00 │ it236   │ Enoteca Pinchiorri                      │ rpo2011100 │ Château la Conseillante 2011    │ fac04_14 │\n",
       "│ 2025-04-29 00:00:00 │ fr134   │ Arpège                                  │ rch2005100 │ Dom Perignon Rosé 2005          │ fac04_15 │\n",
       "│ 2025-05-05 00:00:00 │ fr121   │  Le 1947 à Cheval Blanc                 │ res1957100 │ Château Calon-Ségur 1957        │ fac05_01 │\n",
       "│ 2025-05-06 00:00:00 │ it236   │ Enoteca Pinchiorri                      │ bch2013100 │ Deutz 2013                      │ fac05_02 │\n",
       "│ 2025-05-08 00:00:00 │ fr134   │ Arpège                                  │ rpo1979100 │ Pétrus 1979                     │ fac05_03 │\n",
       "├─────────────────────┴─────────┴─────────────────────────────────────────┴────────────┴─────────────────────────────────┴──────────┤\n",
       "│ 50 rows (20 shown)                                                                                                      6 columns │\n",
       "└───────────────────────────────────────────────────────────────────────────────────────────────────────────────────────────────────┘"
      ]
     },
     "execution_count": 39,
     "metadata": {},
     "output_type": "execute_result"
    }
   ],
   "source": [
    "query = '''\n",
    "SELECT\n",
    "    date,\n",
    "    cust_id,\n",
    "    client_name,\n",
    "    item,\n",
    "    item_name,\n",
    "    inv_no\n",
    "FROM \n",
    "    table_invoice\n",
    "INNER JOIN\n",
    "    table_client\n",
    "ON \n",
    "    cust_id = id_client\n",
    "INNER JOIN\n",
    "    table_item\n",
    "ON\n",
    "    item = code_item\n",
    "'''\n",
    "\n",
    "duckdb.sql(query)\n"
   ]
  },
  {
   "cell_type": "markdown",
   "metadata": {},
   "source": [
    "### 4-Full outer join\n",
    "C'est la combinaison des résultats d'un 'left join' et d'un 'right join'.\\\n",
    "Le résultat retourne toutes les lignes des deux tables avec des valeurs NULL lorsqu'il n'y a pas de correspondances.\n",
    "\n",
    "**Mission** : Lister les clients qui n'ont pas été facturés sur la période. \n"
   ]
  },
  {
   "cell_type": "code",
   "execution_count": 40,
   "metadata": {},
   "outputs": [
    {
     "data": {
      "text/plain": [
       "┌───────────┬────────────────────────┬───────────────────────┬────────────┬─────────┐\n",
       "│ id_client │      client_name       │         town          │  country   │ cust_id │\n",
       "│  varchar  │        varchar         │        varchar        │  varchar   │ varchar │\n",
       "├───────────┼────────────────────────┼───────────────────────┼────────────┼─────────┤\n",
       "│ ch109     │ Xin Rong Ji            │ Beijing               │ Chine      │ NULL    │\n",
       "│ eu113     │ Smyth                  │ Chicago               │ Etats-Unis │ NULL    │\n",
       "│ fr117     │ L'Oustau de Baumanière │ Les Baux-de-Provence  │ France     │ NULL    │\n",
       "│ hk221     │ Caprice                │ Hong Kong             │ Hong Kong  │ NULL    │\n",
       "└───────────┴────────────────────────┴───────────────────────┴────────────┴─────────┘"
      ]
     },
     "execution_count": 40,
     "metadata": {},
     "output_type": "execute_result"
    }
   ],
   "source": [
    "query = '''\n",
    "SELECT \n",
    "    id_client,\n",
    "    client_name,\n",
    "    town,\n",
    "    country,\n",
    "    cust_id\n",
    "FROM\n",
    "    table_invoice\n",
    "FULL OUTER JOIN\n",
    "    table_client\n",
    "ON\n",
    "    cust_id = id_client\n",
    "WHERE\n",
    "    cust_id IS NULL\n",
    "'''\n",
    "duckdb.sql(query)"
   ]
  },
  {
   "cell_type": "markdown",
   "metadata": {},
   "source": [
    "### 5-Self join\n",
    "C'est une opération de jointure d'une table avec elle-même.\\\n",
    "Cette jointure nécessite d'utiliser des alias dans les commandes SELECT, FROM et JOIN pour distinguer les deux instances.\n",
    "\n",
    "**Mission** : Ecrire une requête qui permet d'obtenir le nombre de client facturé la semaine présente et la semaine précédente (i.e. retained client)."
   ]
  },
  {
   "cell_type": "code",
   "execution_count": 41,
   "metadata": {},
   "outputs": [
    {
     "data": {
      "text/plain": [
       "┌───────┬─────────────────┐\n",
       "│ week  │ retained_client │\n",
       "│ int64 │      int64      │\n",
       "├───────┼─────────────────┤\n",
       "│     2 │               1 │\n",
       "│     8 │               2 │\n",
       "│     9 │               1 │\n",
       "│    10 │               1 │\n",
       "│    13 │               1 │\n",
       "│    15 │               1 │\n",
       "│    16 │               2 │\n",
       "│    19 │               1 │\n",
       "└───────┴─────────────────┘"
      ]
     },
     "execution_count": 41,
     "metadata": {},
     "output_type": "execute_result"
    }
   ],
   "source": [
    "query = \"\"\"\n",
    "\n",
    "-- créer une sous_table en provenance des ventes avec numéro client, nom et le no de la semaine--\n",
    "\n",
    "WITH cte AS (\n",
    "    SELECT \n",
    "        cust_id,\n",
    "        WEEK(date) as week,\n",
    "    FROM \n",
    "        table_invoice\n",
    "    GROUP BY\n",
    "        cust_id,\n",
    "        week\n",
    "    ORDER BY \n",
    "        week \n",
    ")\n",
    "\n",
    "-- requete principale avec un SELF JOIN --\n",
    "SELECT \n",
    "    l.week,\n",
    "    COUNT(DISTINCT(l.cust_id)) AS retained_client\n",
    "FROM \n",
    "    cte AS l\n",
    "JOIN\n",
    "    cte AS r\n",
    "ON \n",
    "    l.cust_id = r.cust_id\n",
    "    AND\n",
    "    l.week = r.week + 1\n",
    "GROUP BY \n",
    "    l.week\n",
    "ORDER BY\n",
    "    l.week\n",
    "\n",
    "\"\"\"\n",
    "duckdb.sql(query)"
   ]
  },
  {
   "cell_type": "markdown",
   "metadata": {},
   "source": [
    "### 6-Left join\n",
    "C'est une combinaison des lignes de deux tables avec un condition de jointure spécifique, mais qui garde toute les lignes de la table de gauche (1ière table) et les lignes correspondantes de la table de droite (2nd table).\n",
    "\n",
    "**Mission :** Rédiger une requête qui permet d'avoir sur la table des ventes le nom des clients et le titres des articles."
   ]
  },
  {
   "cell_type": "code",
   "execution_count": null,
   "metadata": {},
   "outputs": [
    {
     "data": {
      "text/plain": [
       "┌─────────────────────┬─────────┬─────────────────────────────────────────┬────────────┬─────────────────────────────────┬───────┬────────┬─────────┬──────────┐\n",
       "│        date         │ cust_id │               client_name               │    item    │            item_name            │  qty  │ price  │ line_no │  inv_no  │\n",
       "│    timestamp_ns     │ varchar │                 varchar                 │  varchar   │             varchar             │ int64 │ double │  int64  │ varchar  │\n",
       "├─────────────────────┼─────────┼─────────────────────────────────────────┼────────────┼─────────────────────────────────┼───────┼────────┼─────────┼──────────┤\n",
       "│ 2025-01-01 00:00:00 │ fr133   │ L'Ambroisie                             │ rpo1979100 │ Pétrus 1979                     │     3 │ 5320.0 │       1 │ fac01_01 │\n",
       "│ 2025-01-03 00:00:00 │ fr141   │ Assiette Champenoise                    │ rch2009100 │ Deutz 2009                      │    10 │  210.0 │       1 │ fac01_02 │\n",
       "│ 2025-01-05 00:00:00 │ fr116   │ Le Clos des Sens                        │ rpo2013100 │ Château L'Evangile 2013         │     5 │  148.8 │       1 │ fac01_03 │\n",
       "│ 2025-01-09 00:00:00 │ fr133   │ L'Ambroisie                             │ bsa2012100 │ Château Rayne Vigneau 2012      │     7 │   39.7 │       1 │ fac01_04 │\n",
       "│ 2025-01-10 00:00:00 │ fr140   │ Le Pré Catelan                          │ bsa2018100 │ Château d'Yquem 2018            │     3 │  181.0 │       1 │ fac01_05 │\n",
       "│ 2025-01-15 00:00:00 │ fr124   │ La Marine                               │ rma2021101 │ Château Giscours 2021           │     4 │  168.0 │       1 │ fac01_06 │\n",
       "│ 2025-01-22 00:00:00 │ it236   │ Enoteca Pinchiorri                      │ rpa2019100 │ Château Mouton Rothschild 2019  │    12 │  988.9 │       1 │ fac01_07 │\n",
       "│ 2025-01-22 00:00:00 │ it236   │ Enoteca Pinchiorri                      │ res2017100 │ Château Cos d'Estournel 2017    │    15 │  166.5 │       2 │ fac01_07 │\n",
       "│ 2025-01-30 00:00:00 │ eu115   │ Le Bernardin                            │ bpe2020100 │ Château Smith Haut Lafitte 2020 │    16 │  174.0 │       1 │ fac01_08 │\n",
       "│ 2025-02-05 00:00:00 │ fr118   │ La Villa Madie                          │ res2017100 │ Château Cos d'Estournel 2017    │     3 │  160.5 │       1 │ fac02_01 │\n",
       "│          ·          │   ·     │   ·                                     │     ·      │     ·                           │     · │    ·   │       · │    ·     │\n",
       "│          ·          │   ·     │   ·                                     │     ·      │     ·                           │     · │    ·   │       · │    ·     │\n",
       "│          ·          │   ·     │   ·                                     │     ·      │     ·                           │     · │    ·   │       · │    ·     │\n",
       "│ 2025-04-16 00:00:00 │ fr134   │ Arpège                                  │ bch2013100 │ Deutz 2013                      │     5 │  230.0 │       1 │ fac04_10 │\n",
       "│ 2025-04-17 00:00:00 │ fr140   │ Le Pré Catelan                          │ rch2009100 │ Deutz 2009                      │     3 │  215.0 │       1 │ fac04_11 │\n",
       "│ 2025-04-20 00:00:00 │ fr143   │  La Vague d'Or - Cheval Blanc St-Tropez │ res2017100 │ Château Cos d'Estournel 2017    │     5 │  185.0 │       1 │ fac04_12 │\n",
       "│ 2025-04-21 00:00:00 │ ar102   │ Aramburu                                │ bpe2020100 │ Château Smith Haut Lafitte 2020 │    12 │  200.0 │       1 │ fac04_13 │\n",
       "│ 2025-04-21 00:00:00 │ ar102   │ Aramburu                                │ rpo2016100 │ Château La Conseillante 2016    │     6 │  405.0 │       2 │ fac04_13 │\n",
       "│ 2025-04-27 00:00:00 │ it236   │ Enoteca Pinchiorri                      │ rpo2011100 │ Château la Conseillante 2011    │     5 │  275.0 │       1 │ fac04_14 │\n",
       "│ 2025-04-29 00:00:00 │ fr134   │ Arpège                                  │ rch2005100 │ Dom Perignon Rosé 2005          │     6 │  540.0 │       1 │ fac04_15 │\n",
       "│ 2025-05-05 00:00:00 │ fr121   │  Le 1947 à Cheval Blanc                 │ res1957100 │ Château Calon-Ségur 1957        │     6 │  478.0 │       1 │ fac05_01 │\n",
       "│ 2025-05-06 00:00:00 │ it236   │ Enoteca Pinchiorri                      │ bch2013100 │ Deutz 2013                      │     6 │  256.5 │       1 │ fac05_02 │\n",
       "│ 2025-05-08 00:00:00 │ fr134   │ Arpège                                  │ rpo1979100 │ Pétrus 1979                     │     2 │ 5310.0 │       1 │ fac05_03 │\n",
       "├─────────────────────┴─────────┴─────────────────────────────────────────┴────────────┴─────────────────────────────────┴───────┴────────┴─────────┴──────────┤\n",
       "│ 50 rows (20 shown)                                                                                                                                 9 columns │\n",
       "└──────────────────────────────────────────────────────────────────────────────────────────────────────────────────────────────────────────────────────────────┘"
      ]
     },
     "execution_count": 45,
     "metadata": {},
     "output_type": "execute_result"
    }
   ],
   "source": [
    "query =\"\"\"\n",
    "SELECT \n",
    "    date,\n",
    "    cust_id,\n",
    "    client_name,\n",
    "    item,\n",
    "    item_name,\n",
    "    qty,\n",
    "    price,\n",
    "    line_no,\n",
    "    inv_no\n",
    "FROM\n",
    "    table_invoice\n",
    "LEFT JOIN \n",
    "    table_client\n",
    "    ON \n",
    "        cust_id = id_client\n",
    "LEFT JOIN\n",
    "    table_item\n",
    "    ON\n",
    "        item = code_item\n",
    "\"\"\"\n",
    "duckdb.sql(query)"
   ]
  },
  {
   "cell_type": "markdown",
   "metadata": {},
   "source": [
    "# Les window functions\n",
    "Les fonctions fenêtres permettent d'effectuer des calculs sur un ensemble de lignes tout en conservant les lignes d'origines.\\\n",
    "\n",
    "Pour rappel l'ordre des clauses est le suivant 'PARTITION BY' (divise en groupe) puis 'ORDER BY' (classe les lignes) puis 'ROWS BETWEEN' (définie les lignes dans la plage). "
   ]
  },
  {
   "cell_type": "markdown",
   "metadata": {},
   "source": [
    "### 1-La clause OVER()\n",
    "Cette clause s'utilise avec un fonction d'aggrégation ou avec des fonctions comme ROW_NUMBER, RANK(), DENSE_RANK() ou LAG()."
   ]
  },
  {
   "cell_type": "markdown",
   "metadata": {},
   "source": [
    "**OVER (ORDER BY...)**\n",
    "Cette clause définie la manière dont les lignes d'une partition seront triées selon une colonne.\n",
    "\n",
    "**Mission** : Ecrire une requête qui permet de connaitre les ventes cumulées par semaine."
   ]
  },
  {
   "cell_type": "code",
   "execution_count": 29,
   "metadata": {},
   "outputs": [
    {
     "data": {
      "text/plain": [
       "┌─────────┬───────────────────┬───────────────────┐\n",
       "│ week_no │   weekly_sales    │  cumulated_sales  │\n",
       "│  int64  │      double       │      double       │\n",
       "├─────────┼───────────────────┼───────────────────┤\n",
       "│       1 │           18804.0 │           18804.0 │\n",
       "│       2 │ 820.9000000000001 │           19624.9 │\n",
       "│       3 │             672.0 │           20296.9 │\n",
       "│       4 │           14364.3 │           34661.2 │\n",
       "│       5 │            2784.0 │           37445.2 │\n",
       "│       6 │             481.5 │           37926.7 │\n",
       "│       7 │           16705.4 │           54632.1 │\n",
       "│       8 │            8670.0 │           63302.1 │\n",
       "│       9 │            4120.5 │           67422.6 │\n",
       "│      10 │            1976.9 │           69399.5 │\n",
       "│      11 │            8309.2 │           77708.7 │\n",
       "│      12 │            5706.4 │ 83415.09999999999 │\n",
       "│      13 │            9072.0 │ 92487.09999999999 │\n",
       "│      14 │          20478.65 │         112965.75 │\n",
       "│      15 │ 5101.799999999999 │         118067.55 │\n",
       "│      16 │           10498.0 │         128565.55 │\n",
       "│      17 │            6205.0 │         134770.55 │\n",
       "│      18 │            3240.0 │         138010.55 │\n",
       "│      19 │           15027.0 │         153037.55 │\n",
       "├─────────┴───────────────────┴───────────────────┤\n",
       "│ 19 rows                               3 columns │\n",
       "└─────────────────────────────────────────────────┘"
      ]
     },
     "execution_count": 29,
     "metadata": {},
     "output_type": "execute_result"
    }
   ],
   "source": [
    "query = \"\"\"\n",
    "-- Création d'un CTE pour avoir les ventes par semaine --\n",
    "WITH weekly_sales AS (\n",
    "    SELECT \n",
    "        WEEK(date) AS week_no,\n",
    "        SUM(qty * price) AS weekly_sales\n",
    "    FROM \n",
    "        table_invoice\n",
    "    GROUP BY \n",
    "        WEEK(date)\n",
    ")\n",
    "\n",
    "-- Requête finale pour obtenir les ventes cumulées par semaine --\n",
    "SELECT \n",
    "    week_no,\n",
    "    weekly_sales,\n",
    "    SUM(weekly_sales) OVER (ORDER BY week_no) AS cumulated_sales\n",
    "FROM \n",
    "    weekly_sales\n",
    "\"\"\"\n",
    "duckdb.sql(query)\n"
   ]
  },
  {
   "cell_type": "markdown",
   "metadata": {},
   "source": [
    "**OVER (ORDER BY ... ROWS BETWEEN ...)**\\\n",
    "Cette commande détermine précisement quelles lignes sont à inclure dans le calcul.\\\n",
    "On utilise 'PRECEDING', 'FOLLOWING', 'UNBOUNDED' et 'CURRENT ROW'.\n",
    "\n",
    "**Mission** : A partir le la table des factures calculer les ventes moyennes sur les 3 derniers jours facturées. "
   ]
  },
  {
   "cell_type": "code",
   "execution_count": null,
   "metadata": {},
   "outputs": [
    {
     "data": {
      "text/plain": [
       "┌─────────────────────┬────────────────────┬────────────────────┐\n",
       "│        date         │       sales        │  average_sales_3d  │\n",
       "│    timestamp_ns     │       double       │       double       │\n",
       "├─────────────────────┼────────────────────┼────────────────────┤\n",
       "│ 2025-01-01 00:00:00 │            15960.0 │            15960.0 │\n",
       "│ 2025-01-03 00:00:00 │             2100.0 │             9030.0 │\n",
       "│ 2025-01-05 00:00:00 │              744.0 │             6268.0 │\n",
       "│ 2025-01-09 00:00:00 │ 277.90000000000003 │           4770.475 │\n",
       "│ 2025-01-10 00:00:00 │              543.0 │            916.225 │\n",
       "│ 2025-01-15 00:00:00 │              672.0 │            559.225 │\n",
       "│ 2025-01-22 00:00:00 │            14364.3 │ 3964.2999999999997 │\n",
       "│ 2025-01-30 00:00:00 │             2784.0 │           4590.825 │\n",
       "│ 2025-02-05 00:00:00 │              481.5 │            4575.45 │\n",
       "│ 2025-02-13 00:00:00 │             1085.4 │             4678.8 │\n",
       "│          ·          │                ·   │                ·   │\n",
       "│          ·          │                ·   │                ·   │\n",
       "│          ·          │                ·   │                ·   │\n",
       "│ 2025-04-15 00:00:00 │             7778.0 │           2864.225 │\n",
       "│ 2025-04-16 00:00:00 │             1150.0 │             2886.6 │\n",
       "│ 2025-04-17 00:00:00 │              645.0 │             2882.1 │\n",
       "│ 2025-04-20 00:00:00 │              925.0 │             2624.5 │\n",
       "│ 2025-04-21 00:00:00 │             4830.0 │             1887.5 │\n",
       "│ 2025-04-27 00:00:00 │             1375.0 │            1943.75 │\n",
       "│ 2025-04-29 00:00:00 │             3240.0 │             2592.5 │\n",
       "│ 2025-05-05 00:00:00 │             2868.0 │            3078.25 │\n",
       "│ 2025-05-06 00:00:00 │             1539.0 │             2255.5 │\n",
       "│ 2025-05-08 00:00:00 │            10620.0 │            4566.75 │\n",
       "├─────────────────────┴────────────────────┴────────────────────┤\n",
       "│ 40 rows (20 shown)                                  3 columns │\n",
       "└───────────────────────────────────────────────────────────────┘"
      ]
     },
     "execution_count": 12,
     "metadata": {},
     "output_type": "execute_result"
    }
   ],
   "source": [
    "query = '''\n",
    "\n",
    "-- calculer les ventes journalières avec un CTE\n",
    "WITH cte1 AS (\n",
    "    SELECT \n",
    "        date,\n",
    "        SUM(qty*price) AS sales\n",
    "    FROM \n",
    "        table_invoice\n",
    "    GROUP BY\n",
    "        date\n",
    ")\n",
    "\n",
    "-- requête finale \n",
    "SELECT\n",
    "    date,\n",
    "    sales,\n",
    "    AVG(sales) OVER (ORDER BY date\n",
    "                            ROWS BETWEEN 3 PRECEDING and CURRENT ROW) AS average_sales_3d\n",
    "FROM \n",
    "    cte1\n",
    "'''\n",
    "duckdb.sql(query)"
   ]
  },
  {
   "cell_type": "markdown",
   "metadata": {},
   "source": [
    "**OVER (PARTITION BY ...)**\\\n",
    "Cette clause permet de diviser les données en sous-ensembles (=partition) selon les valeurs dans les colonnes spécifiées.\n",
    "\n",
    "**Mission** : Rédiger une requête qui donne les ventes totales par client et le total des ventes de leur pay respectif."
   ]
  },
  {
   "cell_type": "code",
   "execution_count": null,
   "metadata": {},
   "outputs": [
    {
     "data": {
      "text/plain": [
       "┌─────────┬─────────────────────────────────────────┬────────────────────┬─────────────┬───────────────┐\n",
       "│ cust_id │               client_name               │     sales_cust     │   country   │ sales_country │\n",
       "│ varchar │                 varchar                 │       double       │   varchar   │    double     │\n",
       "├─────────┼─────────────────────────────────────────┼────────────────────┼─────────────┼───────────────┤\n",
       "│ eu115   │ Le Bernardin                            │             6190.4 │ Etats-Unis  │        6190.4 │\n",
       "│ ja226   │ Sézanne                                 │            16460.4 │ Japon       │       16460.4 │\n",
       "│ ru232   │ The ledbury                             │             1895.0 │ Royaume-Uni │        1895.0 │\n",
       "│ fr134   │ Arpège                                  │            19559.4 │ France      │      71006.25 │\n",
       "│ fr121   │  Le 1947 à Cheval Blanc                 │            14240.0 │ France      │      71006.25 │\n",
       "│ fr128   │  Mirazur                                │             1308.0 │ France      │      71006.25 │\n",
       "│ fr143   │  La Vague d'Or - Cheval Blanc St-Tropez │              925.0 │ France      │      71006.25 │\n",
       "│ fr141   │ Assiette Champenoise                    │             2100.0 │ France      │      71006.25 │\n",
       "│ fr140   │ Le Pré Catelan                          │ 3143.3999999999996 │ France      │      71006.25 │\n",
       "│ fr124   │ La Marine                               │            5057.75 │ France      │      71006.25 │\n",
       "│ fr118   │ La Villa Madie                          │ 1586.6999999999998 │ France      │      71006.25 │\n",
       "│ fr133   │ L'Ambroisie                             │            21446.2 │ France      │      71006.25 │\n",
       "│ fr116   │ Le Clos des Sens                        │ 1639.8000000000002 │ France      │      71006.25 │\n",
       "│ ch107   │ Taian Table                             │            24672.0 │ Chine       │       24672.0 │\n",
       "│ ar102   │ Aramburu                                │             4830.0 │ Argentine   │        4830.0 │\n",
       "│ it236   │ Enoteca Pinchiorri                      │            17278.3 │ Italie      │       27983.5 │\n",
       "│ it223   │ Enrico Bartolini al Mudec               │            10705.2 │ Italie      │       27983.5 │\n",
       "├─────────┴─────────────────────────────────────────┴────────────────────┴─────────────┴───────────────┤\n",
       "│ 17 rows                                                                                    5 columns │\n",
       "└──────────────────────────────────────────────────────────────────────────────────────────────────────┘"
      ]
     },
     "execution_count": 37,
     "metadata": {},
     "output_type": "execute_result"
    }
   ],
   "source": [
    "query = \"\"\"\n",
    "\n",
    "-- Création d'un CTE pour ajouter le nom du client et son pays dans la table des ventes --\n",
    "WITH CTE AS (\n",
    "    SELECT\n",
    "        cust_id,\n",
    "        client_name,\n",
    "        SUM (qty * price) AS sales_cust,\n",
    "        country\n",
    "    FROM \n",
    "        table_invoice\n",
    "    LEFT JOIN \n",
    "        table_client\n",
    "    ON\n",
    "        cust_id = id_client\n",
    "    GROUP BY\n",
    "        cust_id,\n",
    "        client_name,\n",
    "        country\n",
    ")\n",
    "SELECT \n",
    "    *,\n",
    "    SUM(sales_cust) \n",
    "        OVER (PARTITION BY country) AS sales_country\n",
    "FROM\n",
    "    CTE\n",
    "\"\"\"\n",
    "duckdb.sql(query)"
   ]
  },
  {
   "cell_type": "markdown",
   "metadata": {},
   "source": [
    "### 2-La clause LAG()\n",
    "\n",
    "LAG (*expression* [,*decalage*[,*valeur_par_défaut*]])\n",
    "\n",
    "La commande 'LAG' est utilisée dans un 'SELECT' avec la commande 'OVER()'.\\\n",
    "Elle permet d'accéder à une valeur provenant d'une ligne précédente dans une colonne définie.\n",
    "\n",
    "**Mission** :"
   ]
  },
  {
   "cell_type": "code",
   "execution_count": null,
   "metadata": {},
   "outputs": [],
   "source": []
  },
  {
   "cell_type": "markdown",
   "metadata": {},
   "source": [
    "# La commande GROUP BY"
   ]
  },
  {
   "cell_type": "markdown",
   "metadata": {},
   "source": [
    "### 1-GROUP BY et HAVING\n",
    "\n",
    "La commande HAVING permet de filtrer les lignes produites par un GROUP BY. Elle remplace le WHERE qui ne peut pas être utilisé.\n",
    "\n",
    "**Mission**"
   ]
  },
  {
   "cell_type": "code",
   "execution_count": null,
   "metadata": {},
   "outputs": [],
   "source": []
  },
  {
   "cell_type": "markdown",
   "metadata": {},
   "source": [
    "### 2-GROUPING SETS\n",
    "Cette commande permet de réaliser des sous-groupes dans une requête comme si nous enchaînions plusieurs 'GROUP BY'.\n",
    "\n",
    "**Mission** : Comment se répartissent les ventes par pays du client dans chaque région viticole ? Je veux aussi voir les ventes totales par région."
   ]
  },
  {
   "cell_type": "code",
   "execution_count": null,
   "metadata": {},
   "outputs": [
    {
     "data": {
      "text/plain": [
       "┌────────────────┬────────────┬────────────────────┐\n",
       "│     region     │  country   │       vente        │\n",
       "│    varchar     │  varchar   │       double       │\n",
       "├────────────────┼────────────┼────────────────────┤\n",
       "│ Champagne      │ Chine      │             4920.0 │\n",
       "│ Champagne      │ France     │            11143.0 │\n",
       "│ Champagne      │ Italie     │             2689.0 │\n",
       "│ Champagne      │ NULL       │            18752.0 │\n",
       "│ Margaux        │ France     │             2184.0 │\n",
       "│ Margaux        │ NULL       │             2184.0 │\n",
       "│ Pauillac       │ Italie     │            11866.8 │\n",
       "│ Pauillac       │ Japon      │ 14240.400000000001 │\n",
       "│ Pauillac       │ NULL       │            26107.2 │\n",
       "│ Pessac Leognan │ Argentine  │             2400.0 │\n",
       "│       ·        │   ·        │                ·   │\n",
       "│       ·        │   ·        │                ·   │\n",
       "│       ·        │   ·        │                ·   │\n",
       "│ Saint Estèphe  │ France     │             7228.5 │\n",
       "│ Saint Estèphe  │ Italie     │             2497.5 │\n",
       "│ Saint Estèphe  │ Japon      │             2220.0 │\n",
       "│ Saint Estèphe  │ NULL       │            11946.0 │\n",
       "│ Saint Julien   │ France     │              713.5 │\n",
       "│ Saint Julien   │ Italie     │             3405.2 │\n",
       "│ Saint Julien   │ NULL       │             4118.7 │\n",
       "│ Sauternes      │ Etats-Unis │             3406.4 │\n",
       "│ Sauternes      │ France     │             6207.3 │\n",
       "│ Sauternes      │ NULL       │             9613.7 │\n",
       "├────────────────┴────────────┴────────────────────┤\n",
       "│ 33 rows (20 shown)                     3 columns │\n",
       "└──────────────────────────────────────────────────┘"
      ]
     },
     "execution_count": 13,
     "metadata": {},
     "output_type": "execute_result"
    }
   ],
   "source": [
    "query ='''\n",
    "-- CTE pour ajouter le pays (client) et la région (produit)\n",
    "WITH cte AS(\n",
    "    SELECT *  \n",
    "    FROM \n",
    "            table_invoice AS r\n",
    "    LEFT JOIN \n",
    "            table_client AS l\n",
    "    ON\n",
    "            r.cust_id = l.id_client\n",
    "    LEFT JOIN\n",
    "            table_item AS ll\n",
    "    ON \n",
    "        r.item = ll.code_item\n",
    ")\n",
    "\n",
    "SELECT  region,\n",
    "        country,\n",
    "        SUM(qty * price) AS vente\n",
    "FROM \n",
    "    cte\n",
    "GROUP BY GROUPING SETS ((region, country),region)\n",
    "ORDER BY region, country\n",
    "\n",
    "'''\n",
    "duckdb.sql(query)"
   ]
  },
  {
   "cell_type": "markdown",
   "metadata": {},
   "source": [
    "# Autres commandes\n"
   ]
  },
  {
   "cell_type": "markdown",
   "metadata": {},
   "source": [
    "### 1-La commande CAST:\n",
    "CAST(*expression* AS *type*)\n",
    "\n",
    "Cette commande, utilisée dans un 'SELECT', permet de définir ou modifier le type des données d'une colonne.\n",
    "\n",
    "**Mission** : Ajouter dans la table des factures une colonne avec les ventes arrondies à l'unité."
   ]
  },
  {
   "cell_type": "code",
   "execution_count": null,
   "metadata": {},
   "outputs": [
    {
     "data": {
      "text/plain": [
       "┌─────────────────────┬─────────┬────────────┬───────┬────────┬─────────────┐\n",
       "│        date         │ cust_id │    item    │  qty  │ price  │ total_sales │\n",
       "│    timestamp_ns     │ varchar │  varchar   │ int64 │ double │    int32    │\n",
       "├─────────────────────┼─────────┼────────────┼───────┼────────┼─────────────┤\n",
       "│ 2025-01-01 00:00:00 │ fr133   │ rpo1979100 │     3 │ 5320.0 │       15960 │\n",
       "│ 2025-01-03 00:00:00 │ fr141   │ rch2009100 │    10 │  210.0 │        2100 │\n",
       "│ 2025-01-05 00:00:00 │ fr116   │ rpo2013100 │     5 │  148.8 │         744 │\n",
       "│ 2025-01-09 00:00:00 │ fr133   │ bsa2012100 │     7 │   39.7 │         278 │\n",
       "│ 2025-01-10 00:00:00 │ fr140   │ bsa2018100 │     3 │  181.0 │         543 │\n",
       "│ 2025-01-15 00:00:00 │ fr124   │ rma2021101 │     4 │  168.0 │         672 │\n",
       "│ 2025-01-22 00:00:00 │ it236   │ rpa2019100 │    12 │  988.9 │       11867 │\n",
       "│ 2025-01-22 00:00:00 │ it236   │ res2017100 │    15 │  166.5 │        2498 │\n",
       "│ 2025-01-30 00:00:00 │ eu115   │ bpe2020100 │    16 │  174.0 │        2784 │\n",
       "│ 2025-02-05 00:00:00 │ fr118   │ res2017100 │     3 │  160.5 │         482 │\n",
       "│          ·          │   ·     │     ·      │     · │    ·   │          ·  │\n",
       "│          ·          │   ·     │     ·      │     · │    ·   │          ·  │\n",
       "│          ·          │   ·     │     ·      │     · │    ·   │          ·  │\n",
       "│ 2025-04-16 00:00:00 │ fr134   │ bch2013100 │     5 │  230.0 │        1150 │\n",
       "│ 2025-04-17 00:00:00 │ fr140   │ rch2009100 │     3 │  215.0 │         645 │\n",
       "│ 2025-04-20 00:00:00 │ fr143   │ res2017100 │     5 │  185.0 │         925 │\n",
       "│ 2025-04-21 00:00:00 │ ar102   │ bpe2020100 │    12 │  200.0 │        2400 │\n",
       "│ 2025-04-21 00:00:00 │ ar102   │ rpo2016100 │     6 │  405.0 │        2430 │\n",
       "│ 2025-04-27 00:00:00 │ it236   │ rpo2011100 │     5 │  275.0 │        1375 │\n",
       "│ 2025-04-29 00:00:00 │ fr134   │ rch2005100 │     6 │  540.0 │        3240 │\n",
       "│ 2025-05-05 00:00:00 │ fr121   │ res1957100 │     6 │  478.0 │        2868 │\n",
       "│ 2025-05-06 00:00:00 │ it236   │ bch2013100 │     6 │  256.5 │        1539 │\n",
       "│ 2025-05-08 00:00:00 │ fr134   │ rpo1979100 │     2 │ 5310.0 │       10620 │\n",
       "├─────────────────────┴─────────┴────────────┴───────┴────────┴─────────────┤\n",
       "│ 50 rows (20 shown)                                              6 columns │\n",
       "└───────────────────────────────────────────────────────────────────────────┘"
      ]
     },
     "execution_count": 14,
     "metadata": {},
     "output_type": "execute_result"
    }
   ],
   "source": [
    "query = '''\n",
    "SELECT \n",
    "    date,\n",
    "    cust_id,\n",
    "    item,\n",
    "    qty,\n",
    "    price,\n",
    "    CAST(qty*price AS integer) AS total_sales\n",
    "FROM \n",
    "    table_invoice\n",
    "'''\n",
    "duckdb.sql(query)"
   ]
  },
  {
   "cell_type": "markdown",
   "metadata": {},
   "source": [
    "### 2-La commande CASE WHEN\n",
    "CASE \\\n",
    "WHEN *condition 1* THEN *resultat 1*\\\n",
    "  WHEN *condition 2* THEN *resultat 2*\\\n",
    "     ELSE *resultat 3*\\\n",
    "     END AS *expression*\n",
    "\n",
    " Cette commande permet d'ajouter une logique conditionelle dans les requêtes et retourne différentes valeurs basées sur des conditions spécifiques.\\\n",
    " Elle est surtout utilisée dans un 'SELECT' mais elle peut aussi être utilisée dans une aggrégation.\n",
    " \n",
    " **Mission 1** : Créer une requête qui regroupe les ventes par pays en deux zones géographiques ; 'local' (cad France) et 'export' pour les autres pays."
   ]
  },
  {
   "cell_type": "code",
   "execution_count": null,
   "metadata": {},
   "outputs": [
    {
     "data": {
      "text/plain": [
       "┌─────────────┬──────────┬─────────┐\n",
       "│   country   │  sales   │   geo   │\n",
       "│   varchar   │  double  │ varchar │\n",
       "├─────────────┼──────────┼─────────┤\n",
       "│ Chine       │  24672.0 │ export  │\n",
       "│ France      │ 71006.25 │ local   │\n",
       "│ Italie      │  27983.5 │ export  │\n",
       "│ Argentine   │   4830.0 │ export  │\n",
       "│ Japon       │  16460.4 │ export  │\n",
       "│ Etats-Unis  │   6190.4 │ export  │\n",
       "│ Royaume-Uni │   1895.0 │ export  │\n",
       "└─────────────┴──────────┴─────────┘"
      ]
     },
     "execution_count": 15,
     "metadata": {},
     "output_type": "execute_result"
    }
   ],
   "source": [
    "query = '''\n",
    "-- ajouter le pays aux ventes et ajouter la colonne spécifique pour local / export\n",
    "SELECT country, \n",
    "        SUM((qty * price)) AS sales,\n",
    "        CASE \n",
    "            WHEN country = 'France' THEN 'local'\n",
    "            ELSE 'export'\n",
    "        END AS geo \n",
    "FROM \n",
    "        table_invoice AS r\n",
    "LEFT JOIN \n",
    "        table_client AS l\n",
    "ON\n",
    "        r.cust_id = l.id_client\n",
    "\n",
    "GROUP BY\n",
    "         country\n",
    "'''\n",
    "duckdb.sql(query)"
   ]
  },
  {
   "cell_type": "markdown",
   "metadata": {},
   "source": [
    "**Mission 2** : Pour chaque client, calculer la somme de ses ventes par pays. "
   ]
  },
  {
   "cell_type": "code",
   "execution_count": null,
   "metadata": {},
   "outputs": [
    {
     "data": {
      "text/plain": [
       "┌─────────┬────────────────────┬───────────┬──────────┬──────────┬──────────┬──────────┬─────────────┐\n",
       "│ cust_id │     ventes_FR      │ ventes_IT │ vente_CH │ vente_JP │ vente_US │ vente_UK │   country   │\n",
       "│ varchar │       double       │  double   │  double  │  double  │  double  │  double  │   varchar   │\n",
       "├─────────┼────────────────────┼───────────┼──────────┼──────────┼──────────┼──────────┼─────────────┤\n",
       "│ fr140   │ 3143.3999999999996 │       0.0 │      0.0 │      0.0 │      0.0 │      0.0 │ France      │\n",
       "│ it223   │                0.0 │   10705.2 │      0.0 │      0.0 │      0.0 │      0.0 │ Italie      │\n",
       "│ fr133   │            21446.2 │       0.0 │      0.0 │      0.0 │      0.0 │      0.0 │ France      │\n",
       "│ fr124   │            5057.75 │       0.0 │      0.0 │      0.0 │      0.0 │      0.0 │ France      │\n",
       "│ ar102   │                0.0 │       0.0 │      0.0 │      0.0 │      0.0 │      0.0 │ Argentine   │\n",
       "│ it236   │                0.0 │   17278.3 │      0.0 │      0.0 │      0.0 │      0.0 │ Italie      │\n",
       "│ eu115   │                0.0 │       0.0 │      0.0 │      0.0 │   6190.4 │      0.0 │ Etats-Unis  │\n",
       "│ fr118   │ 1586.6999999999998 │       0.0 │      0.0 │      0.0 │      0.0 │      0.0 │ France      │\n",
       "│ fr121   │            14240.0 │       0.0 │      0.0 │      0.0 │      0.0 │      0.0 │ France      │\n",
       "│ fr128   │             1308.0 │       0.0 │      0.0 │      0.0 │      0.0 │      0.0 │ France      │\n",
       "│ fr116   │ 1639.8000000000002 │       0.0 │      0.0 │      0.0 │      0.0 │      0.0 │ France      │\n",
       "│ ja226   │                0.0 │       0.0 │      0.0 │  16460.4 │      0.0 │      0.0 │ Japon       │\n",
       "│ fr143   │              925.0 │       0.0 │      0.0 │      0.0 │      0.0 │      0.0 │ France      │\n",
       "│ fr134   │            19559.4 │       0.0 │      0.0 │      0.0 │      0.0 │      0.0 │ France      │\n",
       "│ fr141   │             2100.0 │       0.0 │      0.0 │      0.0 │      0.0 │      0.0 │ France      │\n",
       "│ ch107   │                0.0 │       0.0 │  24672.0 │      0.0 │      0.0 │      0.0 │ Chine       │\n",
       "│ ru232   │                0.0 │       0.0 │      0.0 │      0.0 │      0.0 │   1895.0 │ Royaume-Uni │\n",
       "├─────────┴────────────────────┴───────────┴──────────┴──────────┴──────────┴──────────┴─────────────┤\n",
       "│ 17 rows                                                                                  8 columns │\n",
       "└────────────────────────────────────────────────────────────────────────────────────────────────────┘"
      ]
     },
     "execution_count": 16,
     "metadata": {},
     "output_type": "execute_result"
    }
   ],
   "source": [
    "query = '''\n",
    "SELECT cust_id, \n",
    "            SUM(\n",
    "                CASE\n",
    "                    WHEN country ='France' THEN qty * price\n",
    "                    ELSE 0\n",
    "                END) AS ventes_FR,\n",
    "           SUM(\n",
    "                CASE\n",
    "                    WHEN country ='Italie' THEN qty * price\n",
    "                    ELSE 0\n",
    "                END) AS ventes_IT  ,      \n",
    "            SUM(\n",
    "                CASE\n",
    "                    WHEN country ='Chine' THEN qty * price\n",
    "                    ELSE 0\n",
    "                END) AS vente_CH   ,    \n",
    "           SUM(\n",
    "                CASE\n",
    "                    WHEN country ='Japon' THEN qty * price\n",
    "                    ELSE 0\n",
    "                END) AS vente_JP,\n",
    "           SUM(\n",
    "                CASE\n",
    "                    WHEN country ='Etats-Unis' THEN qty * price\n",
    "                    ELSE 0\n",
    "                END) AS vente_US,\n",
    "           SUM(\n",
    "                CASE\n",
    "                    WHEN country ='Royaume-Uni' THEN qty * price\n",
    "                    ELSE 0\n",
    "                END) AS vente_UK,      \n",
    "            country,\n",
    "FROM \n",
    "            table_invoice AS r\n",
    "LEFT JOIN \n",
    "            table_client AS l\n",
    "ON\n",
    "            r.cust_id = l.id_client\n",
    "GROUP BY \n",
    "        cust_id,\n",
    "        country\n",
    "'''\n",
    "duckdb.sql(query)"
   ]
  },
  {
   "cell_type": "markdown",
   "metadata": {},
   "source": [
    "### 3-La commande ROUND()\n",
    "\n",
    "ROUND (*valeur_numérique*, *nb_décimale*)\n",
    "\n",
    "Cette commande permet d'arrondir une valeur numérique en choisissant le nombre de décimale.\n",
    "\n",
    "**Mission** : Calculer les ventes par facture avec une décimale."
   ]
  },
  {
   "cell_type": "code",
   "execution_count": null,
   "metadata": {},
   "outputs": [
    {
     "data": {
      "text/plain": [
       "┌──────────┬─────────┬─────────────┐\n",
       "│  inv_no  │ cust_id │ total_sales │\n",
       "│ varchar  │ varchar │   double    │\n",
       "├──────────┼─────────┼─────────────┤\n",
       "│ fac01_01 │ fr133   │     15960.0 │\n",
       "│ fac01_02 │ fr141   │      2100.0 │\n",
       "│ fac01_03 │ fr116   │       744.0 │\n",
       "│ fac01_04 │ fr133   │       277.9 │\n",
       "│ fac01_05 │ fr140   │       543.0 │\n",
       "│ fac01_06 │ fr124   │       672.0 │\n",
       "│ fac01_07 │ it236   │     14364.3 │\n",
       "│ fac01_08 │ eu115   │      2784.0 │\n",
       "│ fac02_01 │ fr118   │       481.5 │\n",
       "│ fac02_02 │ fr133   │      1085.4 │\n",
       "│    ·     │   ·     │         ·   │\n",
       "│    ·     │   ·     │         ·   │\n",
       "│    ·     │   ·     │         ·   │\n",
       "│ fac04_09 │ it223   │      7778.0 │\n",
       "│ fac04_10 │ fr134   │      1150.0 │\n",
       "│ fac04_11 │ fr140   │       645.0 │\n",
       "│ fac04_12 │ fr143   │       925.0 │\n",
       "│ fac04_13 │ ar102   │      4830.0 │\n",
       "│ fac04_14 │ it236   │      1375.0 │\n",
       "│ fac04_15 │ fr134   │      3240.0 │\n",
       "│ fac05_01 │ fr121   │      2868.0 │\n",
       "│ fac05_02 │ it236   │      1539.0 │\n",
       "│ fac05_03 │ fr134   │     10620.0 │\n",
       "├──────────┴─────────┴─────────────┤\n",
       "│ 44 rows (20 shown)     3 columns │\n",
       "└──────────────────────────────────┘"
      ]
     },
     "execution_count": 17,
     "metadata": {},
     "output_type": "execute_result"
    }
   ],
   "source": [
    "query = \"\"\"\n",
    "SELECT inv_no,\n",
    "    cust_id,\n",
    "    ROUND(SUM(qty*price),1) AS total_sales\n",
    "FROM \n",
    "    table_invoice\n",
    "GROUP\n",
    "    BY inv_no,\n",
    "    cust_id\n",
    "ORDER BY \n",
    "    inv_no\n",
    "\"\"\"\n",
    "duckdb.sql(query)"
   ]
  },
  {
   "cell_type": "markdown",
   "metadata": {},
   "source": [
    "### 4-La commande LIKE\n",
    "La commande LIKE est utilisée avec WHERE et permet de sélectionner des valeurs avec les caractères spéciaux '%' qui remplace n'importe quel nombre de caractères et '_' qui représente un seul caractère. \n",
    "\n",
    "**Mission** : Dans la table des produits, combien de château d'Yquem il est possible de vendre ?"
   ]
  },
  {
   "cell_type": "code",
   "execution_count": null,
   "metadata": {},
   "outputs": [
    {
     "data": {
      "text/plain": [
       "┌────────────┬──────────────────────┬───────┬────────────┬───────────┬─────────┐\n",
       "│ code_item  │      item_name       │ year  │ base_price │  region   │  type   │\n",
       "│  varchar   │       varchar        │ int64 │   double   │  varchar  │ varchar │\n",
       "├────────────┼──────────────────────┼───────┼────────────┼───────────┼─────────┤\n",
       "│ bsa2018100 │ Château d'Yquem 2018 │  2018 │      169.0 │ Sauternes │ blanc   │\n",
       "│ bsa2019100 │ Château d'Yquem 2019 │  2019 │      390.0 │ Sauternes │ blanc   │\n",
       "│ bsa2020100 │ Château d'Yquem 2020 │  2020 │      430.0 │ Sauternes │ blanc   │\n",
       "└────────────┴──────────────────────┴───────┴────────────┴───────────┴─────────┘"
      ]
     },
     "execution_count": 18,
     "metadata": {},
     "output_type": "execute_result"
    }
   ],
   "source": [
    "query = \"\"\"\n",
    "SELECT *\n",
    "FROM table_item\n",
    "WHERE item_name LIKE '%Yquem%'\n",
    "\"\"\"\n",
    "duckdb.sql(query)"
   ]
  },
  {
   "cell_type": "markdown",
   "metadata": {},
   "source": [
    "***************************************************************************************************"
   ]
  },
  {
   "cell_type": "markdown",
   "metadata": {},
   "source": [
    "# 2-Solutions pratiques avec les clauses 'join'"
   ]
  },
  {
   "cell_type": "code",
   "execution_count": null,
   "metadata": {},
   "outputs": [],
   "source": []
  },
  {
   "cell_type": "markdown",
   "metadata": {},
   "source": [
    "### 2.1 - Variation hebdomadaire en pourcentage des clients avec 'Self-Join'.\n",
    "Contexte :\\\n",
    "Évaluer l'évolution des clients est essentiel pour suivre un indicateur clé comme le nombre de clients actifs.\\\n",
    "Mission :\\\n",
    "Déterminer la variation en pourcentage d'une semaine à l'autre pour les clients hebdomadaire actifs."
   ]
  },
  {
   "cell_type": "markdown",
   "metadata": {},
   "source": [
    "Pour rappel :\\\n",
    "Le 'self join' est une opération de jointure d'une table avec elle-même qui nécessite d'utiliser des alias dans 'SELECT', 'FROM' et 'JOIN' pour distinguer les deux instances.\n"
   ]
  },
  {
   "cell_type": "code",
   "execution_count": null,
   "metadata": {},
   "outputs": [
    {
     "data": {
      "text/plain": [
       "┌───────────────┬──────────────┬──────────────┬──────────────┬─────────────────────┐\n",
       "│ previous_week │ prev_nb_cust │ current_week │ curr_nb_cust │ percent_var_nb_cust │\n",
       "│     int64     │    int64     │    int64     │    int64     │       double        │\n",
       "├───────────────┼──────────────┼──────────────┼──────────────┼─────────────────────┤\n",
       "│             2 │            2 │            1 │            3 │                50.0 │\n",
       "│             3 │            1 │            2 │            2 │               100.0 │\n",
       "│             4 │            1 │            3 │            1 │                 0.0 │\n",
       "│             5 │            1 │            4 │            1 │                 0.0 │\n",
       "│             6 │            1 │            5 │            1 │                 0.0 │\n",
       "│             7 │            2 │            6 │            1 │               -50.0 │\n",
       "│             8 │            3 │            7 │            2 │              -33.33 │\n",
       "│             9 │            3 │            8 │            3 │                 0.0 │\n",
       "│            10 │            1 │            9 │            3 │               200.0 │\n",
       "│            11 │            2 │           10 │            1 │               -50.0 │\n",
       "│            12 │            2 │           11 │            2 │                 0.0 │\n",
       "│            13 │            1 │           12 │            2 │               100.0 │\n",
       "│            14 │            5 │           13 │            1 │               -80.0 │\n",
       "│            15 │            4 │           14 │            5 │                25.0 │\n",
       "│            16 │            4 │           15 │            4 │                 0.0 │\n",
       "│            17 │            2 │           16 │            4 │               100.0 │\n",
       "│            18 │            1 │           17 │            2 │               100.0 │\n",
       "│            19 │            3 │           18 │            1 │              -66.67 │\n",
       "├───────────────┴──────────────┴──────────────┴──────────────┴─────────────────────┤\n",
       "│ 18 rows                                                                5 columns │\n",
       "└──────────────────────────────────────────────────────────────────────────────────┘"
      ]
     },
     "execution_count": 19,
     "metadata": {},
     "output_type": "execute_result"
    }
   ],
   "source": [
    "query = \"\"\"\n",
    "\n",
    "-- Créer un CTE avec par facture la semaine et le code client --\n",
    "WITH cte AS (\n",
    "    SELECT \n",
    "        WEEK(date) AS week,\n",
    "        cust_id,\n",
    "        inv_no\n",
    "    FROM table_invoice\n",
    "    GROUP BY date, cust_id, inv_no\n",
    "    ORDER BY week\n",
    "),\n",
    "    cte2 AS (\n",
    "    SELECT \n",
    "        week,\n",
    "        COUNT(DISTINCT(cust_id)) AS nb_cust\n",
    "    FROM cte\n",
    "    GROUP BY(week)\n",
    ")\n",
    "\n",
    "-- Requête finale à l'aide de cte --\n",
    "\n",
    "SELECT \n",
    "    l.week AS previous_week,\n",
    "    l.nb_cust AS prev_nb_cust,\n",
    "    r.week AS current_week,\n",
    "    r.nb_cust AS curr_nb_cust,\n",
    "    ROUND(100*((curr_nb_cust / prev_nb_cust)-1),2) AS percent_var_nb_cust\n",
    "FROM\n",
    "    cte2 AS l\n",
    "JOIN\n",
    "    cte2 AS r\n",
    "ON \n",
    "    l.week = r.week + 1\n",
    "\n",
    "ORDER BY previous_week\n",
    "\n",
    "\"\"\"\n",
    "duckdb.sql(query)"
   ]
  },
  {
   "cell_type": "markdown",
   "metadata": {},
   "source": [
    "### 2.2 - Produits jamais commandés avec 'left join' et 'cross join':\n",
    "Mission : \\\n",
    "Lister pour chaque client les produits du catalogue qui n'ont pas été commandés sur l'année."
   ]
  },
  {
   "cell_type": "markdown",
   "metadata": {},
   "source": [
    "Pour rappel :\\\n",
    "Un 'cross join' est un produit cartésien. Chaque ligne de la première table est combinée avec les lignes de la seconde table.\\\n",
    "Un 'left join' est une combinaison des lignes de deux tables avec un condition de jointure sécifique. La jointure garde toute les lignes de la table de gauche (1ière table) et les lignes correspondantes de la table de droite (2nd table)."
   ]
  },
  {
   "cell_type": "code",
   "execution_count": null,
   "metadata": {},
   "outputs": [
    {
     "ename": "BinderException",
     "evalue": "Binder Error: Table \"l\" does not have a column named \"cust_id\"",
     "output_type": "error",
     "traceback": [
      "\u001b[1;31m---------------------------------------------------------------------------\u001b[0m",
      "\u001b[1;31mBinderException\u001b[0m                           Traceback (most recent call last)",
      "Cell \u001b[1;32mIn[20], line 39\u001b[0m\n\u001b[0;32m      1\u001b[0m query \u001b[38;5;241m=\u001b[39m \u001b[38;5;124m\"\"\"\u001b[39m\n\u001b[0;32m      2\u001b[0m \n\u001b[0;32m      3\u001b[0m \u001b[38;5;124m-- définir une table des ventes par client et articles --\u001b[39m\n\u001b[1;32m   (...)\u001b[0m\n\u001b[0;32m     37\u001b[0m \u001b[38;5;124m    l.cust_id, r.code_item\u001b[39m\n\u001b[0;32m     38\u001b[0m \u001b[38;5;124m\"\"\"\u001b[39m\n\u001b[1;32m---> 39\u001b[0m \u001b[43mduckdb\u001b[49m\u001b[38;5;241;43m.\u001b[39;49m\u001b[43msql\u001b[49m\u001b[43m(\u001b[49m\u001b[43mquery\u001b[49m\u001b[43m)\u001b[49m\n",
      "\u001b[1;31mBinderException\u001b[0m: Binder Error: Table \"l\" does not have a column named \"cust_id\""
     ]
    }
   ],
   "source": [
    "query = \"\"\"\n",
    "\n",
    "-- définir une table des ventes par client et articles --\n",
    "WITH cte_ventes AS(\n",
    "    SELECT \n",
    "        cust_id,\n",
    "        item,\n",
    "        SUM(qty * price) AS annual_sales\n",
    "    FROM\n",
    "        table_invoice\n",
    "    GROUP BY\n",
    "        cust_id, item        \n",
    ")\n",
    "\n",
    "-- Requete principale qui liste les clients et les produits jamais commandés --\n",
    "\n",
    "SELECT \n",
    "    l.cust_id AS cust_code,\n",
    "    l.name AS cust_name, \n",
    "    r.code_item AS item_code,\n",
    "    r.item_name AS item_name\n",
    "\n",
    "FROM \n",
    "    table_client AS l\n",
    "    -- permet de créer une table de tous les clients avec tous les produits --\n",
    "    CROSS JOIN \n",
    "    table_item AS r\n",
    "LEFT JOIN\n",
    "    cte_ventes AS v\n",
    "ON\n",
    "    (l.cust_id = v.cust_id) AND(r.code_item = v.item) \n",
    "GROUP BY \n",
    "    l.cust_id,l.name, r.code_item, r.item_name\n",
    "HAVING \n",
    "    SUM(annual_sales) IS NULL\n",
    "ORDER BY\n",
    "    l.cust_id, r.code_item\n",
    "\"\"\"\n",
    "duckdb.sql(query)"
   ]
  },
  {
   "cell_type": "markdown",
   "metadata": {},
   "source": [
    "### 2.3 - Produits jamais commandés avec 'cross join' et 'full outer join':\n",
    "Meme objectif que précédement avec un FULL OUTER JOIN.\n",
    "\n",
    "Pour rappel :\\\n",
    "Le résultat d'un 'full outer join' retourne toutes les lignes des deux tables avec des valeurs NULL là où il n'y a pas de correspondances."
   ]
  },
  {
   "cell_type": "code",
   "execution_count": null,
   "metadata": {},
   "outputs": [
    {
     "ename": "BinderException",
     "evalue": "Binder Error: Referenced column \"cust_id\" not found in FROM clause!\nCandidate bindings: \"table_client.country\", \"table_item.code_item\", \"table_item.base_price\", \"table_client.client_name\", \"table_item.item_name\"",
     "output_type": "error",
     "traceback": [
      "\u001b[1;31m---------------------------------------------------------------------------\u001b[0m",
      "\u001b[1;31mBinderException\u001b[0m                           Traceback (most recent call last)",
      "Cell \u001b[1;32mIn[8], line 55\u001b[0m\n\u001b[0;32m      1\u001b[0m query \u001b[38;5;241m=\u001b[39m \u001b[38;5;124m\"\"\"\u001b[39m\n\u001b[0;32m      2\u001b[0m \u001b[38;5;124m-- premier cte pour récuperer les clients et les produits effectivement vendus --\u001b[39m\n\u001b[0;32m      3\u001b[0m \u001b[38;5;124mWITH \u001b[39m\n\u001b[1;32m   (...)\u001b[0m\n\u001b[0;32m     52\u001b[0m \u001b[38;5;124m        l.code_item\u001b[39m\n\u001b[0;32m     53\u001b[0m \u001b[38;5;124m\"\"\"\u001b[39m\n\u001b[1;32m---> 55\u001b[0m \u001b[43mduckdb\u001b[49m\u001b[38;5;241;43m.\u001b[39;49m\u001b[43msql\u001b[49m\u001b[43m(\u001b[49m\u001b[43mquery\u001b[49m\u001b[43m)\u001b[49m\n",
      "\u001b[1;31mBinderException\u001b[0m: Binder Error: Referenced column \"cust_id\" not found in FROM clause!\nCandidate bindings: \"table_client.country\", \"table_item.code_item\", \"table_item.base_price\", \"table_client.client_name\", \"table_item.item_name\""
     ]
    }
   ],
   "source": [
    "query = \"\"\"\n",
    "-- premier cte pour récuperer les clients et les produits effectivement vendus --\n",
    "WITH \n",
    "cte1 AS (\n",
    "    SELECT \n",
    "        cust_id,\n",
    "        item,\n",
    "    FROM \n",
    "        table_invoice\n",
    "    GROUP BY \n",
    "        cust_id,\n",
    "        item\n",
    "    ORDER BY\n",
    "        cust_id,\n",
    "        item\n",
    "),\n",
    "\n",
    "-- second cte pour créer une liste des clients avec tous les produits --\n",
    "cte2 AS (\n",
    "    SELECT \n",
    "        cust_id,\n",
    "        code_item,\n",
    "        name,\n",
    "        item_name\n",
    "    FROM \n",
    "        table_client\n",
    "    CROSS JOIN \n",
    "        table_item\n",
    "    ORDER BY\n",
    "        cust_id,\n",
    "        code_item\n",
    ")\n",
    "\n",
    "-- on réalise la jointure des deux cte en selectionnant les clients et produits absent du premier cte --\n",
    "    SELECT\n",
    "        l.cust_id,\n",
    "        l.name,\n",
    "        l.code_item,\n",
    "        l.item_name\n",
    "    FROM\n",
    "        cte2 AS l\n",
    "    FULL OUTER JOIN\n",
    "        cte1 AS r\n",
    "    ON\n",
    "        (l.cust_id = r.cust_id)\n",
    "         AND \n",
    "        (l.code_item = r.item)\n",
    "    WHERE\n",
    "        r.cust_id IS NULL\n",
    "    ORDER BY\n",
    "        l.cust_id,\n",
    "        l.code_item\n",
    "\"\"\"\n",
    "\n",
    "duckdb.sql(query)"
   ]
  },
  {
   "cell_type": "markdown",
   "metadata": {},
   "source": [
    "### 2.4 - Les ventes par pays et par type de vin avec 'inner join'\n",
    "Contexte :\\\n",
    "On cherche à savoir si il existe une relation entre le pays du client et la région du vin de bordeaux.\\\n",
    "Mission :\\\n",
    "Extraire les région de bordeaux vendu pour chaque pays de vente et le nombre de bouteilles."
   ]
  },
  {
   "cell_type": "markdown",
   "metadata": {},
   "source": [
    "Pour rappel:\\\n",
    "Un 'inner join' permet de combiner les lignes de deux tables en se basant sur une condition de jointure spécifique. Il renvoie uniquement les lignes où il y a une correspondance dans les deux tables. C'est un 'crossjoin' avec une condition de correspondance."
   ]
  },
  {
   "cell_type": "code",
   "execution_count": null,
   "metadata": {},
   "outputs": [
    {
     "ename": "BinderException",
     "evalue": "Binder Error: Referenced table \"r\" not found!\nCandidate tables: \"l\"",
     "output_type": "error",
     "traceback": [
      "\u001b[1;31m---------------------------------------------------------------------------\u001b[0m",
      "\u001b[1;31mBinderException\u001b[0m                           Traceback (most recent call last)",
      "Cell \u001b[1;32mIn[10], line 23\u001b[0m\n\u001b[0;32m      1\u001b[0m query \u001b[38;5;241m=\u001b[39m \u001b[38;5;124m\"\"\"\u001b[39m\n\u001b[0;32m      2\u001b[0m \u001b[38;5;124mSELECT \u001b[39m\n\u001b[0;32m      3\u001b[0m \u001b[38;5;124m    r.country,\u001b[39m\n\u001b[1;32m   (...)\u001b[0m\n\u001b[0;32m     21\u001b[0m \u001b[38;5;124m    total_qty DESC\u001b[39m\n\u001b[0;32m     22\u001b[0m \u001b[38;5;124m\"\"\"\u001b[39m\n\u001b[1;32m---> 23\u001b[0m \u001b[43mduckdb\u001b[49m\u001b[38;5;241;43m.\u001b[39;49m\u001b[43msql\u001b[49m\u001b[43m(\u001b[49m\u001b[43mquery\u001b[49m\u001b[43m)\u001b[49m\n",
      "\u001b[1;31mBinderException\u001b[0m: Binder Error: Referenced table \"r\" not found!\nCandidate tables: \"l\""
     ]
    }
   ],
   "source": [
    "query = \"\"\"\n",
    "SELECT \n",
    "    r.country,\n",
    "    rr.region,\n",
    "    SUM(l.qty) AS total_qty\n",
    "FROM\n",
    "    table_invoice AS l\n",
    "INNER JOIN\n",
    "    table_client AS r\n",
    "INNER JOIN\n",
    "    table_item AS rr\n",
    "ON\n",
    "    l.cust_id = r.cust_id\n",
    "ON\n",
    "    l.item = rr.code_item\n",
    "GROUP BY\n",
    "    r.country,\n",
    "    rr.region\n",
    "Order BY \n",
    "    rr.region,\n",
    "    total_qty DESC\n",
    "\"\"\"\n",
    "duckdb.sql(query)"
   ]
  },
  {
   "cell_type": "markdown",
   "metadata": {},
   "source": []
  },
  {
   "cell_type": "markdown",
   "metadata": {},
   "source": [
    "### 2.5- Commandes clients maintenues ou non d'un mois sur l'autre avec un 'self join' et un 'full ouetr join'\n",
    "Mission n°1 :\\\n",
    "Écrire une requête qui permet d'obtenir le nombre de clients qui ont passé une commande le mois précédent et le mois présent."
   ]
  },
  {
   "cell_type": "code",
   "execution_count": null,
   "metadata": {},
   "outputs": [
    {
     "data": {
      "text/plain": [
       "┌───────┬─────────────────┐\n",
       "│ month │ retained_client │\n",
       "│ int64 │      int64      │\n",
       "├───────┼─────────────────┤\n",
       "│     2 │               2 │\n",
       "│     3 │               3 │\n",
       "│     4 │               3 │\n",
       "│     5 │               2 │\n",
       "└───────┴─────────────────┘"
      ]
     },
     "execution_count": 21,
     "metadata": {},
     "output_type": "execute_result"
    }
   ],
   "source": [
    "query = \"\"\"\n",
    "\n",
    "-- créer une sous_table en provenance des ventes avec numéro client, nom et le mois de la facture--\n",
    "\n",
    "WITH cte AS (\n",
    "    SELECT \n",
    "        cust_id,\n",
    "        MONTH(date) as month,\n",
    "    FROM table_invoice\n",
    "    GROUP BY cust_id, month\n",
    ")\n",
    "\n",
    "-- requete principale avec un SELF JOIN --\n",
    "SELECT \n",
    "    l.month,\n",
    "    COUNT(DISTINCT(l.cust_id)) AS retained_client\n",
    "FROM \n",
    "    cte AS l\n",
    "JOIN\n",
    "    cte AS r\n",
    "ON \n",
    "    l.cust_id = r.cust_id\n",
    "    AND\n",
    "    l.month = r.month + 1\n",
    "GROUP BY \n",
    "    l.month\n",
    "ORDER BY\n",
    "    l.month\n",
    "\n",
    "\"\"\"\n",
    "duckdb.sql(query)"
   ]
  },
  {
   "cell_type": "markdown",
   "metadata": {},
   "source": [
    "Mission n°2 :\\\n",
    "Rédiger une requête qui donne le nombre de clients du mois dernier qui n'ont pas achetés ce mois-ci."
   ]
  },
  {
   "cell_type": "code",
   "execution_count": null,
   "metadata": {},
   "outputs": [],
   "source": [
    "query = \"\"\"\n",
    "\n",
    "-- créer une sous_table en provenance des ventes avec numéro client, nom et le mois de la facture--\n",
    "\n",
    "WITH cte AS (\n",
    "    SELECT \n",
    "        cust_id,\n",
    "        MONTH(date) as month,\n",
    "    FROM table_invoice\n",
    "    GROUP BY cust_id, month\n",
    ")\n",
    "\n",
    "SELECT\n",
    "    l.month,\n",
    "    COUNT(DISTINCT(r.cust_id)) AS left_client\n",
    "FROM\n",
    "    cte AS l\n",
    "FULL OUTER JOIN\n",
    "    cte AS r\n",
    "ON\n",
    "    l.cust_id = r.cust_id\n",
    "    AND \n",
    "    l.month = r.month + 1\n",
    "WHERE \n",
    "    l.cust_id IS NULL\n",
    "GROUP BY \n",
    "    l.month\n",
    "ORDER BY \n",
    "    l.month\n",
    "\n",
    "\"\"\"\n",
    "duckdb.sql(query)"
   ]
  }
 ],
 "metadata": {
  "kernelspec": {
   "display_name": "Python 3",
   "language": "python",
   "name": "python3"
  },
  "language_info": {
   "codemirror_mode": {
    "name": "ipython",
    "version": 3
   },
   "file_extension": ".py",
   "mimetype": "text/x-python",
   "name": "python",
   "nbconvert_exporter": "python",
   "pygments_lexer": "ipython3",
   "version": "3.12.9"
  }
 },
 "nbformat": 4,
 "nbformat_minor": 2
}
